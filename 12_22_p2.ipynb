{
 "cells": [
  {
   "cell_type": "code",
   "execution_count": 3,
   "id": "0c5f894f-609c-43e0-a999-9ce6da710e2b",
   "metadata": {},
   "outputs": [
    {
     "name": "stdout",
     "output_type": "stream",
     "text": [
      "A\n",
      "B\n",
      "C\n"
     ]
    }
   ],
   "source": [
    "val = ['A','B','C']\n",
    "for i in val:\n",
    "    print(i)"
   ]
  },
  {
   "cell_type": "code",
   "execution_count": 5,
   "id": "97147e10-26ae-4096-aef8-d54142b0321c",
   "metadata": {},
   "outputs": [
    {
     "name": "stdout",
     "output_type": "stream",
     "text": [
      "10\n",
      "20\n",
      "30\n"
     ]
    }
   ],
   "source": [
    "for i in [10,20,30]:\n",
    "    print(i)"
   ]
  },
  {
   "cell_type": "code",
   "execution_count": 8,
   "id": "a3da49d2-dce8-4438-b24b-a6b9d47715be",
   "metadata": {},
   "outputs": [
    {
     "name": "stdout",
     "output_type": "stream",
     "text": [
      "10\n",
      "--------\n",
      "20\n",
      "--------\n",
      "30\n",
      "--------\n"
     ]
    }
   ],
   "source": [
    "for i in[10,20,30]:\n",
    "    print(i)\n",
    "    print('--------')"
   ]
  },
  {
   "cell_type": "code",
   "execution_count": 11,
   "id": "a6ef285e-8652-4725-9c59-0198207d4cf3",
   "metadata": {},
   "outputs": [
    {
     "name": "stdout",
     "output_type": "stream",
     "text": [
      "110\n",
      "210\n",
      "310\n"
     ]
    }
   ],
   "source": [
    "l = [100,200,300]\n",
    "for i in l:\n",
    "    print(i + 10)"
   ]
  },
  {
   "cell_type": "code",
   "execution_count": 13,
   "id": "33a84240-f024-40c2-b34f-ba060963d8d7",
   "metadata": {},
   "outputs": [
    {
     "name": "stdout",
     "output_type": "stream",
     "text": [
      "오늘의 메뉴 : 김밥\n",
      "오늘의 메뉴 : 라면\n",
      "오늘의 메뉴 : 튀김\n"
     ]
    }
   ],
   "source": [
    "l = ['김밥','라면','튀김']\n",
    "for i in l:\n",
    "    print(f'오늘의 메뉴 : {i}')"
   ]
  },
  {
   "cell_type": "code",
   "execution_count": 15,
   "id": "011cdabf-d51b-4eb8-b154-6f081cc2cc3a",
   "metadata": {},
   "outputs": [
    {
     "name": "stdout",
     "output_type": "stream",
     "text": [
      "6\n",
      "4\n",
      "4\n"
     ]
    }
   ],
   "source": [
    "l = ['SK하이닉스','삼성전자','LG전자']\n",
    "for i in l:\n",
    "    print(len(i))"
   ]
  },
  {
   "cell_type": "code",
   "execution_count": 17,
   "id": "f54620cd-8dda-4705-b763-740a995c36c7",
   "metadata": {},
   "outputs": [
    {
     "name": "stdout",
     "output_type": "stream",
     "text": [
      "dog 3\n",
      "cat 3\n",
      "parrot 6\n"
     ]
    }
   ],
   "source": [
    "l = ['dog','cat','parrot']\n",
    "for i in l:\n",
    "    print(f'{i} {len(i)}')"
   ]
  },
  {
   "cell_type": "code",
   "execution_count": 19,
   "id": "efb28d29-fc94-4896-8f8f-acdb2124c247",
   "metadata": {},
   "outputs": [
    {
     "name": "stdout",
     "output_type": "stream",
     "text": [
      "d\n",
      "c\n",
      "p\n"
     ]
    }
   ],
   "source": [
    "for i in l:\n",
    "    print(f'{i[0]}')"
   ]
  },
  {
   "cell_type": "code",
   "execution_count": 21,
   "id": "082f5440-e2c3-4091-b72b-5cbc0b4b1797",
   "metadata": {},
   "outputs": [
    {
     "name": "stdout",
     "output_type": "stream",
     "text": [
      "3 * 1 = 3\n",
      "3 * 2 = 6\n",
      "3 * 3 = 9\n"
     ]
    }
   ],
   "source": [
    "l = [1,2,3]\n",
    "for i in l:\n",
    "    print(f'3 * {i} = {3*i}')"
   ]
  },
  {
   "cell_type": "code",
   "execution_count": 23,
   "id": "53e7b1e2-9115-4338-b7ce-f8c00fffd33d",
   "metadata": {},
   "outputs": [
    {
     "name": "stdout",
     "output_type": "stream",
     "text": [
      "나\n",
      "다\n",
      "라\n"
     ]
    }
   ],
   "source": [
    "l = ['가','나','다','라']\n",
    "\n",
    "for i in l[1:]:\n",
    "    print(i)"
   ]
  },
  {
   "cell_type": "code",
   "execution_count": 25,
   "id": "3eb6fb6a-2eee-4683-b728-b589b89ddbdf",
   "metadata": {},
   "outputs": [
    {
     "name": "stdout",
     "output_type": "stream",
     "text": [
      "가\n",
      "다\n"
     ]
    }
   ],
   "source": [
    "for i in l[::2]:\n",
    "    print(i)"
   ]
  },
  {
   "cell_type": "code",
   "execution_count": 27,
   "id": "3596cfd2-c788-4694-9c28-86635c2c515d",
   "metadata": {},
   "outputs": [
    {
     "name": "stdout",
     "output_type": "stream",
     "text": [
      "라\n",
      "다\n",
      "나\n",
      "가\n"
     ]
    }
   ],
   "source": [
    "for i in l[::-1]:\n",
    "    print(i)"
   ]
  },
  {
   "cell_type": "code",
   "execution_count": 29,
   "id": "cb3442db-4fe5-4fd2-a406-6ae471d87a36",
   "metadata": {},
   "outputs": [
    {
     "name": "stdout",
     "output_type": "stream",
     "text": [
      "-20\n",
      "-3\n"
     ]
    }
   ],
   "source": [
    "l = [3,-20,-3,44]\n",
    "for i in l:\n",
    "    if i < 0:\n",
    "        print(i)"
   ]
  },
  {
   "cell_type": "code",
   "execution_count": 35,
   "id": "cd9e4551-78d5-4e9b-b5c9-3e5b163d5f7e",
   "metadata": {},
   "outputs": [
    {
     "name": "stdout",
     "output_type": "stream",
     "text": [
      "3\n"
     ]
    }
   ],
   "source": [
    "l = [3,100,23,44]\n",
    "\n",
    "for i in l:\n",
    "    if (i%3) == 0:\n",
    "        print(i)"
   ]
  },
  {
   "cell_type": "code",
   "execution_count": 39,
   "id": "c95465a4-21f6-4e31-beb8-efac6fbd37e2",
   "metadata": {},
   "outputs": [
    {
     "name": "stdout",
     "output_type": "stream",
     "text": [
      "12\n",
      "18\n"
     ]
    }
   ],
   "source": [
    "l = [13,21,12,14,30,18]\n",
    "\n",
    "for i in l:\n",
    "    if i < 20:\n",
    "        if (i % 3) == 0:\n",
    "            print(i)"
   ]
  },
  {
   "cell_type": "code",
   "execution_count": 41,
   "id": "98dc8ea5-c6bb-44af-98ab-60327ad13287",
   "metadata": {},
   "outputs": [
    {
     "name": "stdout",
     "output_type": "stream",
     "text": [
      "study\n",
      "python\n",
      "language\n"
     ]
    }
   ],
   "source": [
    "l = ['I','study','python','language','!']\n",
    "\n",
    "for i in l:\n",
    "    if len(i) >= 3:\n",
    "        print(i)"
   ]
  },
  {
   "cell_type": "code",
   "execution_count": 43,
   "id": "4ebbe2a0-4d7e-4507-8912-4c2848ba9fc0",
   "metadata": {},
   "outputs": [
    {
     "name": "stdout",
     "output_type": "stream",
     "text": [
      "A\n",
      "D\n"
     ]
    }
   ],
   "source": [
    "l = ['A','b','c','D']\n",
    "\n",
    "for i in l:\n",
    "    if i.isupper():\n",
    "        print(i)"
   ]
  },
  {
   "cell_type": "code",
   "execution_count": 45,
   "id": "8962f08b-97c3-4dd5-8211-75e635e929b6",
   "metadata": {},
   "outputs": [
    {
     "name": "stdout",
     "output_type": "stream",
     "text": [
      "b\n",
      "c\n"
     ]
    }
   ],
   "source": [
    "for i in l:\n",
    "    if i.islower():\n",
    "        print(i)"
   ]
  },
  {
   "cell_type": "code",
   "execution_count": 61,
   "id": "9f271c91-4b26-4f41-a3cd-3497870a345a",
   "metadata": {},
   "outputs": [
    {
     "name": "stdout",
     "output_type": "stream",
     "text": [
      "D\n",
      "['d', 'o', 'g']\n",
      "C\n",
      "['c', 'a', 't']\n",
      "P\n",
      "['p', 'a', 'r', 'r', 'o', 't']\n",
      "['p', 'a', 'r', 'r', 'o', 't']\n"
     ]
    }
   ],
   "source": [
    "l = ['dog','cat','parrot']\n",
    "res = []\n",
    "for i in l:\n",
    "    val = i[0].upper() \n",
    "    res = list(i)\n",
    "    print(val)\n",
    "    print(res)\n"
   ]
  }
 ],
 "metadata": {
  "kernelspec": {
   "display_name": "Python 3 (ipykernel)",
   "language": "python",
   "name": "python3"
  },
  "language_info": {
   "codemirror_mode": {
    "name": "ipython",
    "version": 3
   },
   "file_extension": ".py",
   "mimetype": "text/x-python",
   "name": "python",
   "nbconvert_exporter": "python",
   "pygments_lexer": "ipython3",
   "version": "3.12.1"
  }
 },
 "nbformat": 4,
 "nbformat_minor": 5
}
